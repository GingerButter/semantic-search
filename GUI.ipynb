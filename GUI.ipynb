{
 "cells": [
  {
   "cell_type": "code",
   "execution_count": 12,
   "metadata": {},
   "outputs": [],
   "source": [
    "import wx #创建子类法\n",
    "class App(wx.App):\n",
    "    def OnInit(self):\n",
    "        frame = wx.Frame(parent=None,title=\"Hello, wxPython\")\n",
    "        frame.Show()\n",
    "        return True\n",
    "if __name__ == '__main__':\n",
    "    app = App()\n",
    "    app.MainLoop()"
   ]
  },
  {
   "cell_type": "code",
   "execution_count": 18,
   "metadata": {},
   "outputs": [
    {
     "data": {
      "text/plain": [
       "'1212\\n121233'"
      ]
     },
     "execution_count": 18,
     "metadata": {},
     "output_type": "execute_result"
    }
   ],
   "source": [
    "m1='1212\\n1212'\n",
    "m2='33'\n",
    "m3=m1+m2\n",
    "m3"
   ]
  },
  {
   "cell_type": "code",
   "execution_count": 1,
   "metadata": {},
   "outputs": [],
   "source": [
    "import wx\n",
    "\n",
    "test_list = ['在清华大学就读是什么体验？\t网上有一篇文章，叫一入清华深似海，从此装逼是路人。','在清华大学当学渣是种怎样的体验？\t不匿答这道题。大一第一次期中考试，微积分全班接近满分，我80多倒数第二几代平均80多，我56倒数第一。辅导员找我谈话，还找了我家长（妈妈在我毕业之后才告诉我，说相信我自己能处理好这个事情）。分出来之后第二天全班集体打疫苗，自己走到了一个没有人的地方，告诉自己，我要挺下来。我要变好，至少要比现在好。我不能挂科。我要正常毕业。人生往往不是童话，我在期末拼命学习的情况下在一元微积分和几代一拿了70多，比','在清华大学当学渣是种怎样的体验？\t是。而且，不能在气势和精神上有任何的体现。不然，曾经的同学要说你装B，自己的亲人要伤心，不如自己痛苦些好了。既然注定是被看不起的那一部分人，何必妄自菲薄呢要装作自己很牛B的样子 之前被莫明其妙（没有用错，确实是因为一些莫明其妙的原因）地挂过几科，现在成绩在一个尴尬的位置上，要是运气好的话或许还能有机会深造，要是稍有不小心大概就该准备工作了吧（虽然我不觉得是坏事，但理由同上，毕','什么是清华大学的定向生？\t人生最残酷的事情就是剥夺你选择的权利。你可能有信仰有理想，但一个人在18岁的时候是想不清楚自己想要什么的。','在华中师范大学就读是一种怎样的体验？\t修改于2016年 又要再次返校 看到这个答案还有人关注感慨良多 祝想读华师的终如所愿 还在华师的珍惜在校的日子 bravo 作为毕业一年马上又要回去读研的CCNUer，只愿尽量客观地来评价。1.想说爱你不容易 09年本科入学，当接待的学长满脸真诚地问，怎么样，华师很大吧？我只记得我不屑地说，和高中差不多。言语中不难体现对华师的抵抗。阴差阳错地志愿填报，怀着读武大的憧憬却提前批录取了武大的对门，崇尚自由的我却无知地变成了']\n",
    "\n",
    "class MyFrame(wx.Frame):\n",
    "    def __init__(self,parent,id):\n",
    "        wx.Frame.__init__(self,parent,id,title=\"Demo\",pos=(100,100),size=(650,350))\n",
    "        panel=wx.Panel(self)\n",
    "        #self.text3 = wx.StaticText(panel, label='请输入数据来运行程序', pos=(100, 0))\n",
    "        self.text1=wx.StaticText(panel,label='请输入：',pos=(100,20))\n",
    "        self.ctrl1=wx.TextCtrl(panel,pos=(150,20),size=(335,25),style=wx.TE_LEFT)\n",
    "        self.text3 = wx.StaticText(panel, label='问   题：', pos=(100, 60))\n",
    "        self.ctrl7 = wx.TextCtrl(panel, pos=(150, 60), size=(335, 25), style=wx.TE_LEFT)\n",
    "        self.text2=wx.StaticText(panel,label='结   果：',pos=(100,90))\n",
    "        self.ctrl2=wx.TextCtrl(panel,pos=(150,90),size=(335,25),style=wx.TE_LEFT)\n",
    "        self.ctrl3 = wx.TextCtrl(panel, pos=(150, 120), size=(335, 25), style=wx.TE_LEFT)\n",
    "        self.ctrl4 = wx.TextCtrl(panel, pos=(150, 150), size=(335, 25), style=wx.TE_LEFT)\n",
    "        self.ctrl5 = wx.TextCtrl(panel, pos=(150, 180), size=(335, 25), style=wx.TE_LEFT)\n",
    "        self.ctrl6 = wx.TextCtrl(panel, pos=(150, 210), size=(335, 25), style=wx.TE_LEFT)\n",
    "        self.button1=wx.Button(panel,label=\"运行程序\",pos=(205,240))\n",
    "        self.button1.Bind(wx.EVT_BUTTON,self.run)\n",
    "        self.button2=wx.Button(panel,label=\"重新键入\",pos=(355,240))\n",
    "        self.button2.Bind(wx.EVT_BUTTON, self.redo)\n",
    "\n",
    "    def run(self,event):\n",
    "        message=self.ctrl1.GetValue()\n",
    "        self.ctrl7.SetValue(message)\n",
    "        self.ctrl2.SetValue(test_list[0])\n",
    "        self.ctrl3.SetValue(test_list[1])\n",
    "        self.ctrl4.SetValue(test_list[2])\n",
    "        self.ctrl5.SetValue(test_list[3])\n",
    "        self.ctrl6.SetValue(test_list[4])\n",
    "\n",
    "    def redo(self,event):\n",
    "        self.ctrl1.SetValue(\"\")\n",
    "        self.ctrl2.SetValue(\"\")\n",
    "        self.ctrl3.SetValue(\"\")\n",
    "        self.ctrl4.SetValue(\"\")\n",
    "        self.ctrl5.SetValue(\"\")\n",
    "        self.ctrl6.SetValue(\"\")\n",
    "        self.ctrl7.SetValue(\"\")\n",
    "\n",
    "if __name__=='__main__':\n",
    "    app=wx.App()\n",
    "    frame=MyFrame(parent=None,id=-1)\n",
    "    frame.Show()\n",
    "    app.MainLoop()"
   ]
  },
  {
   "cell_type": "code",
   "execution_count": 2,
   "metadata": {},
   "outputs": [],
   "source": [
    "def GUI():\n",
    "    import wx\n",
    "    class MyFrame(wx.Frame):\n",
    "        def __init__(self,parent,id):\n",
    "            wx.Frame.__init__(self,parent,id,title=\"Demo\",pos=(100,100),size=(650,350))\n",
    "            panel=wx.Panel(self)\n",
    "        #self.text3 = wx.StaticText(panel, label='请输入数据来运行程序', pos=(100, 0))\n",
    "            self.text1=wx.StaticText(panel,label='请输入：',pos=(100,20))\n",
    "            self.ctrl1=wx.TextCtrl(panel,pos=(150,20),size=(335,25),style=wx.TE_LEFT)\n",
    "            #self.text3 = wx.StaticText(panel, label='数   据：', pos=(100, 60))\n",
    "            #self.ctrl7 = wx.TextCtrl(panel, pos=(150, 60), size=(335, 25), style=wx.TE_LEFT)\n",
    "            self.text2=wx.StaticText(panel,label='结   果：',pos=(100,90))\n",
    "            self.ctrl2=wx.TextCtrl(panel,pos=(150,90),size=(335,25),style=wx.TE_LEFT)\n",
    "            self.ctrl3 = wx.TextCtrl(panel, pos=(150, 120), size=(335, 25), style=wx.TE_LEFT)\n",
    "            self.ctrl4 = wx.TextCtrl(panel, pos=(150, 150), size=(335, 25), style=wx.TE_LEFT)\n",
    "            self.ctrl5 = wx.TextCtrl(panel, pos=(150, 180), size=(335, 25), style=wx.TE_LEFT)\n",
    "            self.ctrl6 = wx.TextCtrl(panel, pos=(150, 210), size=(335, 25), style=wx.TE_LEFT)\n",
    "            self.button1=wx.Button(panel,label=\"运行程序\",pos=(205,240))\n",
    "            self.button1.Bind(wx.EVT_BUTTON,self.run)\n",
    "            self.button2=wx.Button(panel,label=\"重新键入\",pos=(355,240))\n",
    "            self.button2.Bind(wx.EVT_BUTTON, self.redo)\n",
    "\n",
    "        def getValue(self,event):\n",
    "            message=self.ctrl1.GetValue()\n",
    "            #self.ctrl7.SetValue(message)\n",
    "            return message\n",
    "            \n",
    "        def setAnswers(self, event, answers):\n",
    "            self.ctrl2.SetValue(answers[0])\n",
    "            self.ctrl3.SetValue(answers[1])\n",
    "            self.ctrl4.SetValue(answers[2])\n",
    "            self.ctrl5.SetValue(answers[3])\n",
    "            self.ctrl6.SetValue(answers[4])\n",
    "\n",
    "        def redo(self,event):\n",
    "            self.ctrl1.SetValue(\"\")\n",
    "            self.ctrl2.SetValue(\"\")\n",
    "            self.ctrl3.SetValue(\"\")\n",
    "            self.ctrl4.SetValue(\"\")\n",
    "            self.ctrl5.SetValue(\"\")\n",
    "            self.ctrl6.SetValue(\"\")\n",
    "            self.ctrl7.SetValue(\"\")"
   ]
  },
  {
   "cell_type": "code",
   "execution_count": 3,
   "metadata": {},
   "outputs": [],
   "source": [
    "def show():\n",
    "    app=wx.App()\n",
    "    frame=MyFrame(parent=None,id=-1)\n",
    "    frame.Show()\n",
    "    app.MainLoop()"
   ]
  },
  {
   "cell_type": "code",
   "execution_count": 4,
   "metadata": {},
   "outputs": [],
   "source": [
    "show()"
   ]
  },
  {
   "cell_type": "code",
   "execution_count": null,
   "metadata": {},
   "outputs": [],
   "source": []
  }
 ],
 "metadata": {
  "kernelspec": {
   "display_name": "Python 3",
   "language": "python",
   "name": "python3"
  },
  "language_info": {
   "codemirror_mode": {
    "name": "ipython",
    "version": 3
   },
   "file_extension": ".py",
   "mimetype": "text/x-python",
   "name": "python",
   "nbconvert_exporter": "python",
   "pygments_lexer": "ipython3",
   "version": "3.8.5"
  }
 },
 "nbformat": 4,
 "nbformat_minor": 4
}
