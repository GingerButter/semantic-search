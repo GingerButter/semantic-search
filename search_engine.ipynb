{
 "cells": [
  {
   "cell_type": "code",
   "execution_count": 1,
   "metadata": {},
   "outputs": [],
   "source": [
    "import numpy as np\n",
    "import torch\n",
    "from sentence_transformers import SentenceTransformer, util"
   ]
  },
  {
   "cell_type": "code",
   "execution_count": 2,
   "metadata": {},
   "outputs": [],
   "source": [
    "import json\n",
    "import os\n",
    "import csv\n",
    "import pickle\n",
    "import time\n",
    "import hnswlib"
   ]
  },
  {
   "cell_type": "code",
   "execution_count": 3,
   "metadata": {},
   "outputs": [],
   "source": [
    "def getNpArr(filepath):\n",
    "    with open(filepath,'r',encoding='utf-8') as f:\n",
    "        raw = f.readlines()\n",
    "    return np.loadtxt(filepath)"
   ]
  },
  {
   "cell_type": "code",
   "execution_count": 4,
   "metadata": {},
   "outputs": [
    {
     "data": {
      "text/plain": [
       "(68341, 768)"
      ]
     },
     "execution_count": 4,
     "metadata": {},
     "output_type": "execute_result"
    }
   ],
   "source": [
    "arr = getNpArr('D:/起夜急理解/文本挖掘与自然语言理解考核数据文件/题目4/savetest.txt')\n",
    "arr.shape"
   ]
  },
  {
   "cell_type": "code",
   "execution_count": 10,
   "metadata": {},
   "outputs": [],
   "source": [
    "sentenceTensor = torch.from_numpy(arr)"
   ]
  },
  {
   "cell_type": "code",
   "execution_count": 5,
   "metadata": {},
   "outputs": [],
   "source": [
    "#提取出所有的问题\n",
    "def getQuestionList(filepath):\n",
    "    rawList = []\n",
    "    with open(filepath,'r',encoding='utf-8') as f:\n",
    "        raw = f.readlines()\n",
    "    for item in raw:\n",
    "        rawList.append(json.loads(item))\n",
    "    questionList = []\n",
    "    answerList = []\n",
    "    for item in rawList:\n",
    "        questionList.append(item['title'])\n",
    "        answerList.append(item['content'])\n",
    "    return questionList, answerList"
   ]
  },
  {
   "cell_type": "code",
   "execution_count": 6,
   "metadata": {},
   "outputs": [],
   "source": [
    "questionList, answerList = getQuestionList('D:/起夜急理解/文本挖掘与自然语言理解考核数据文件/题目4/webtext2019zh(1)/web_text_zh_testa.txt')"
   ]
  },
  {
   "cell_type": "code",
   "execution_count": 26,
   "metadata": {},
   "outputs": [],
   "source": [
    "embedding_cache_path = 'D:/起夜急理解/文本挖掘与自然语言理解考核数据文件/题目4/NEWembeddingCache.pkl'\n",
    "with open(embedding_cache_path, \"wb\") as fOut:\n",
    "    pickle.dump({'sentences': questionList, 'answers':answerList, 'embeddings': arr}, fOut)"
   ]
  },
  {
   "cell_type": "code",
   "execution_count": 7,
   "metadata": {},
   "outputs": [
    {
     "name": "stdout",
     "output_type": "stream",
     "text": [
      "Load pre-computed embeddings from disc\n"
     ]
    }
   ],
   "source": [
    "embedding_cache_path = 'D:/起夜急理解/文本挖掘与自然语言理解考核数据文件/题目4/NEWembeddingCache.pkl'\n",
    "print(\"Load pre-computed embeddings from disc\")\n",
    "with open(embedding_cache_path, \"rb\") as fIn:\n",
    "    cache_data = pickle.load(fIn)\n",
    "    questionList = cache_data['sentences']\n",
    "    answerList = cache_data['answers']\n",
    "    arr = cache_data['embeddings']"
   ]
  },
  {
   "cell_type": "code",
   "execution_count": 8,
   "metadata": {},
   "outputs": [
    {
     "name": "stdout",
     "output_type": "stream",
     "text": [
      "Loading index...\n"
     ]
    }
   ],
   "source": [
    "index_path = \"J:/SAVEITHERE/hnswlib.index\"\n",
    "index = hnswlib.Index(space = 'ip', dim = 768)\n",
    "if os.path.exists(index_path):\n",
    "    print(\"Loading index...\")\n",
    "    index.load_index(index_path)\n",
    "else:\n",
    "    ### 创建Index\n",
    "    print(\"Start creating HNSWLIB index\")\n",
    "    index.init_index(max_elements = len(arr), ef_construction = 400, M = 64)\n",
    "\n",
    "    # 训练以找到合适的聚类\n",
    "    index.add_items(arr, list(range(len(arr))))\n",
    "\n",
    "    print(\"Saving index to:\", index_path)\n",
    "    index.save_index(index_path)\n",
    "    print('Saved!')\n",
    "index.set_ef(50)"
   ]
  },
  {
   "cell_type": "code",
   "execution_count": null,
   "metadata": {},
   "outputs": [
    {
     "name": "stdout",
     "output_type": "stream",
     "text": [
      "Please enter a question: 考研的意义？\n",
      "Input question: 考研的意义？\n",
      "Results (after 8.738 seconds):\n",
      "\t9.999\t读研的意义何在？\t据我了解，在青岛这样的二线城市，做技术类工作（如研发生产工艺质量也算销售不算了），研究生的工资比本科生的高，涨的也快，因为此类工作对沟通技巧（是技巧，不是能力）要求也不高。考虑问题的思路和解决问题的逻辑也比本科生强一些，自然会更受技术出身的上司喜欢，升迁空间也大。当然，个别本科生（我师父），如果责任心非常强也会逼出比研究生更牛逼的思路和逻辑的。\n",
      "\t9.351\t考研应不应该报班？？\t同考研 个人觉得还是整一个好 报哪几门看你自己感觉吧 专业课 应该不用了吧 数学英语政治我是打算去搞一搞 相互交流吧 你什么时候考\n",
      "\t9.336\t为什么要读研？\t小公举中专毕业，工作六年，现在24岁，年入百万，自媒体，目前有两个助理（自媒体甚至不需要员工，单干都可以，主要是在扩大业务线中） 身边研究生，MBA朋友一堆。另外有一次帮意大利某大型集团招人，收到150份硕士以上的简历。虽然我没考大学更没考研，但是对于考研还是尽早工作很有发言权，简单概括一下： 1学历是进入大企业的敲门砖。哪怕我自己是中专，我帮客户也是挑高学历的。不过到了年入百万的咖位，不用投简历了，\n",
      "\t8.934\t考研是种什么样的体验？要准备什么？经历什么？\t暑假一直在图书馆学习一些新技能，然后准备校招的事情。每天看到很多考研er，然后又想起自己曾经考研的日子，就很想记下一些什么，正好昨天又有学妹找到我问我关于考研的事情，今天就想在这里聊聊“那年考研的那些事儿”，顺便为自己找工作攒攒人品。^^ 嘻嘻 我为什么选择考研？仔细想想，自己最开始决定考研是大二结束之后的暑假。因为高考实在是考的不好，所以本科去了一个不是很心仪的学校，当时想着是想继续深造，\n",
      "\t8.905\t保研是什么体验？\t11月13日更新 现在距离保研的那段日子已经有段时间了，一直想着来更新我的答案，可是每次想起那段经历总是在喜悦中夹杂着淡淡的遗憾，好奇怪的情绪感觉。所以也一直迟迟没有下笔，不过总是这么拖着也不是办法，总要面对的，再者在保研那段时间，问答社区平台也给了我很多的帮助，我也要回报社会嘛，所以今天终于下定决心来更新了！ 先说一下我本身的情况吧，农学专业。由于受辅导员的影响，从大一一入学就想着一定要保研，并且觉得保\n",
      "Please enter a question: 在清华大学就读的体验？\n",
      "Input question: 在清华大学就读的体验？\n",
      "Results (after 0.033 seconds):\n",
      "\t11.246\t在清华大学就读是什么体验？\t网上有一篇文章，叫一入清华深似海，从此装逼是路人。\n",
      "\t11.001\t在清华大学当学渣是种怎样的体验？\t不匿答这道题。大一第一次期中考试，微积分全班接近满分，我80多倒数第二几代平均80多，我56倒数第一。辅导员找我谈话，还找了我家长（妈妈在我毕业之后才告诉我，说相信我自己能处理好这个事情）。分出来之后第二天全班集体打疫苗，自己走到了一个没有人的地方，告诉自己，我要挺下来。我要变好，至少要比现在好。我不能挂科。我要正常毕业。人生往往不是童话，我在期末拼命学习的情况下在一元微积分和几代一拿了70多，比\n",
      "\t11.001\t在清华大学当学渣是种怎样的体验？\t是。而且，不能在气势和精神上有任何的体现。不然，曾经的同学要说你装B，自己的亲人要伤心，不如自己痛苦些好了。既然注定是被看不起的那一部分人，何必妄自菲薄呢要装作自己很牛B的样子 之前被莫明其妙（没有用错，确实是因为一些莫明其妙的原因）地挂过几科，现在成绩在一个尴尬的位置上，要是运气好的话或许还能有机会深造，要是稍有不小心大概就该准备工作了吧（虽然我不觉得是坏事，但理由同上，毕\n",
      "\t10.459\t什么是清华大学的定向生？\t人生最残酷的事情就是剥夺你选择的权利。你可能有信仰有理想，但一个人在18岁的时候是想不清楚自己想要什么的。\n",
      "\t10.272\t在华中师范大学就读是一种怎样的体验？\t修改于2016年 又要再次返校 看到这个答案还有人关注感慨良多 祝想读华师的终如所愿 还在华师的珍惜在校的日子 bravo 作为毕业一年马上又要回去读研的CCNUer，只愿尽量客观地来评价。1.想说爱你不容易 09年本科入学，当接待的学长满脸真诚地问，怎么样，华师很大吧？我只记得我不屑地说，和高中差不多。言语中不难体现对华师的抵抗。阴差阳错地志愿填报，怀着读武大的憧憬却提前批录取了武大的对门，崇尚自由的我却无知地变成了\n"
     ]
    }
   ],
   "source": [
    "model = SentenceTransformer('stsb-xlm-r-multilingual')\n",
    "while True:\n",
    "    inp_question = input(\"Please enter a question: \")\n",
    "\n",
    "    start_time = time.time()\n",
    "    question_embedding = model.encode(inp_question)\n",
    "\n",
    "    #We use hnswlib knn_query method to find the top_k_hits\n",
    "    corpus_ids, distances = index.knn_query(question_embedding, k=5)\n",
    "\n",
    "    # We extract corpus ids and scores for the first query\n",
    "    hits = [{'corpus_id': id, 'score': 1-score} for id, score in zip(corpus_ids[0], distances[0])]\n",
    "    hits = sorted(hits, key=lambda x: x['score'], reverse=True)\n",
    "    end_time = time.time()\n",
    "\n",
    "    print(\"Input question:\", inp_question)\n",
    "    print(\"Results (after {:.3f} seconds):\".format(end_time-start_time))\n",
    "    for hit in hits[0:5]:\n",
    "        print(\"\\t{:.3f}\\t{}\\t{}\".format(hit['score'], questionList[hit['corpus_id']], answerList[hit['corpus_id']]))"
   ]
  },
  {
   "cell_type": "code",
   "execution_count": null,
   "metadata": {},
   "outputs": [],
   "source": []
  }
 ],
 "metadata": {
  "kernelspec": {
   "display_name": "Python 3",
   "language": "python",
   "name": "python3"
  },
  "language_info": {
   "codemirror_mode": {
    "name": "ipython",
    "version": 3
   },
   "file_extension": ".py",
   "mimetype": "text/x-python",
   "name": "python",
   "nbconvert_exporter": "python",
   "pygments_lexer": "ipython3",
   "version": "3.8.5"
  }
 },
 "nbformat": 4,
 "nbformat_minor": 4
}
